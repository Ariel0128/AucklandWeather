{
 "cells": [
  {
   "cell_type": "code",
   "execution_count": 4,
   "metadata": {},
   "outputs": [],
   "source": [
    "import pandas as pd\n",
    "import numpy as np\n",
    "import matplotlib.pyplot as plt\n",
    "import plotly.express as px"
   ]
  },
  {
   "cell_type": "code",
   "execution_count": 8,
   "metadata": {},
   "outputs": [],
   "source": [
    "weather = pd.read_csv('AucklandWeather.csv')"
   ]
  },
  {
   "cell_type": "code",
   "execution_count": 9,
   "metadata": {},
   "outputs": [
    {
     "data": {
      "text/html": [
       "<div>\n",
       "<style scoped>\n",
       "    .dataframe tbody tr th:only-of-type {\n",
       "        vertical-align: middle;\n",
       "    }\n",
       "\n",
       "    .dataframe tbody tr th {\n",
       "        vertical-align: top;\n",
       "    }\n",
       "\n",
       "    .dataframe thead th {\n",
       "        text-align: right;\n",
       "    }\n",
       "</style>\n",
       "<table border=\"1\" class=\"dataframe\">\n",
       "  <thead>\n",
       "    <tr style=\"text-align: right;\">\n",
       "      <th></th>\n",
       "      <th>date</th>\n",
       "      <th>temperature</th>\n",
       "      <th>relative_humidity</th>\n",
       "      <th>wind_direction_deg</th>\n",
       "      <th>wind_speed_knots</th>\n",
       "      <th>gust</th>\n",
       "      <th>Forecast</th>\n",
       "    </tr>\n",
       "  </thead>\n",
       "  <tbody>\n",
       "    <tr>\n",
       "      <td>0</td>\n",
       "      <td>1/09/2019 0:00</td>\n",
       "      <td>14</td>\n",
       "      <td>67.12</td>\n",
       "      <td>210</td>\n",
       "      <td>5</td>\n",
       "      <td>0</td>\n",
       "      <td>cloudy</td>\n",
       "    </tr>\n",
       "    <tr>\n",
       "      <td>1</td>\n",
       "      <td>1/09/2019 0:30</td>\n",
       "      <td>14</td>\n",
       "      <td>67.12</td>\n",
       "      <td>210</td>\n",
       "      <td>5</td>\n",
       "      <td>0</td>\n",
       "      <td>cloudy</td>\n",
       "    </tr>\n",
       "    <tr>\n",
       "      <td>2</td>\n",
       "      <td>1/09/2019 1:00</td>\n",
       "      <td>14</td>\n",
       "      <td>71.83</td>\n",
       "      <td>200</td>\n",
       "      <td>6</td>\n",
       "      <td>0</td>\n",
       "      <td>fine</td>\n",
       "    </tr>\n",
       "    <tr>\n",
       "      <td>3</td>\n",
       "      <td>1/09/2019 1:30</td>\n",
       "      <td>15</td>\n",
       "      <td>62.92</td>\n",
       "      <td>210</td>\n",
       "      <td>7</td>\n",
       "      <td>0</td>\n",
       "      <td>fine</td>\n",
       "    </tr>\n",
       "    <tr>\n",
       "      <td>4</td>\n",
       "      <td>1/09/2019 2:00</td>\n",
       "      <td>15</td>\n",
       "      <td>62.92</td>\n",
       "      <td>180</td>\n",
       "      <td>6</td>\n",
       "      <td>0</td>\n",
       "      <td>fine</td>\n",
       "    </tr>\n",
       "  </tbody>\n",
       "</table>\n",
       "</div>"
      ],
      "text/plain": [
       "             date  temperature  relative_humidity  wind_direction_deg  \\\n",
       "0  1/09/2019 0:00           14              67.12                 210   \n",
       "1  1/09/2019 0:30           14              67.12                 210   \n",
       "2  1/09/2019 1:00           14              71.83                 200   \n",
       "3  1/09/2019 1:30           15              62.92                 210   \n",
       "4  1/09/2019 2:00           15              62.92                 180   \n",
       "\n",
       "   wind_speed_knots  gust Forecast  \n",
       "0                 5     0   cloudy  \n",
       "1                 5     0   cloudy  \n",
       "2                 6     0     fine  \n",
       "3                 7     0     fine  \n",
       "4                 6     0     fine  "
      ]
     },
     "execution_count": 9,
     "metadata": {},
     "output_type": "execute_result"
    }
   ],
   "source": [
    "weather.head(5)"
   ]
  },
  {
   "cell_type": "code",
   "execution_count": 10,
   "metadata": {},
   "outputs": [],
   "source": [
    "features = ['temperature','relative_humidity','wind_direction_deg','wind_speed_knots']\n",
    "dt = weather.loc[:,features].values "
   ]
  },
  {
   "cell_type": "code",
   "execution_count": 11,
   "metadata": {},
   "outputs": [],
   "source": [
    "#standardize\n",
    "from sklearn.preprocessing import StandardScaler\n",
    "dt = StandardScaler().fit_transform(dt)"
   ]
  },
  {
   "cell_type": "code",
   "execution_count": 12,
   "metadata": {},
   "outputs": [],
   "source": [
    "from sklearn.datasets.samples_generator import make_blobs\n",
    "from sklearn.neighbors import NearestNeighbors\n",
    "import seaborn as sns\n",
    "sns.set()\n"
   ]
  },
  {
   "cell_type": "code",
   "execution_count": 13,
   "metadata": {},
   "outputs": [],
   "source": [
    "# cluster analysis\n",
    "from scipy import stats\n",
    "from sklearn.cluster import DBSCAN\n",
    "\n",
    "min_samples = dt.shape[1]+1 #  Rule of thumb; number of dimensions D in the data set, as minPts ≥ D + 1\n",
    "dbscan = DBSCAN(eps=3.5, min_samples = min_samples)\n",
    "dblabel=dbscan.fit(dt).labels_"
   ]
  },
  {
   "cell_type": "code",
   "execution_count": 14,
   "metadata": {},
   "outputs": [],
   "source": [
    "#visualise the result\n",
    "\n",
    "from sklearn.manifold import TSNE\n",
    "import seaborn as sns\n",
    "import mpl_toolkits.mplot3d.axes3d as p3\n",
    "from matplotlib import animation\n",
    "\n",
    "%matplotlib inline "
   ]
  },
  {
   "cell_type": "code",
   "execution_count": 15,
   "metadata": {},
   "outputs": [],
   "source": [
    "def prepare_tsne(n_components, data, kmeans_labels):\n",
    "    names = ['x', 'y', 'z']\n",
    "    matrix = TSNE(n_components=n_components).fit_transform(data)\n",
    "    df_matrix = pd.DataFrame(matrix)\n",
    "    df_matrix.rename({i:names[i] for i in range(n_components)}, axis=1, inplace=True)\n",
    "    df_matrix['labels'] = kmeans_labels\n",
    "    \n",
    "    return df_matrix\n",
    "\n",
    "def plot_tsne(tnse_data, kmeans_labels):\n",
    "    df_tsne = pd.DataFrame(tsne_data).rename({0: 'x', 1: 'y'}, axis=1)\n",
    "    df_tsne['z'] = kmeans_labels\n",
    "    sns.scatterplot(x=df_tsne.x, y=df_tsne.y, hue=df_tsne.z, palette=\"Set2\")\n",
    "    plt.show()\n",
    "    \n",
    "def plot_3d(df, name='labels'):\n",
    "    iris = px.data.iris()\n",
    "    fig = px.scatter_3d(df, x='x', y='y', z='z',\n",
    "                  color=name, opacity=0.5)\n",
    "    \n",
    "\n",
    "    fig.update_traces(marker=dict(size=3))\n",
    "    fig.show()\n",
    "    \n",
    "def plot_animation(df, label_column, name):\n",
    "    def update(num):\n",
    "        ax.view_init(200, num)\n",
    "\n",
    "    N=360\n",
    "    fig = plt.figure()\n",
    "    ax = fig.add_subplot(111, projection='3d')\n",
    "    ax.scatter(tsne_3d_df['x'], tsne_3d_df['y'], tsne_3d_df['z'], c=tsne_3d_df[label_column],\n",
    "               s=6, depthshade=True, cmap='Paired')\n",
    "    ax.set_zlim(-15, 25)\n",
    "    ax.set_xlim(-20, 20)\n",
    "    plt.tight_layout()\n",
    "    ani = animation.FuncAnimation(fig, update, N, blit=False, interval=50)\n",
    "    ani.save('{}.gif'.format(name), writer='imagemagick')\n",
    "    plt.show()"
   ]
  },
  {
   "cell_type": "code",
   "execution_count": 16,
   "metadata": {},
   "outputs": [],
   "source": [
    "ts=prepare_tsne(3,dt,dblabel)"
   ]
  },
  {
   "cell_type": "code",
   "execution_count": null,
   "metadata": {},
   "outputs": [],
   "source": [
    "dt.shape[1]"
   ]
  },
  {
   "cell_type": "code",
   "execution_count": 16,
   "metadata": {},
   "outputs": [
    {
     "name": "stdout",
     "output_type": "stream",
     "text": [
      "Requirement already satisfied: plotly in /Applications/anaconda3/lib/python3.7/site-packages (4.12.0)\n",
      "Requirement already satisfied: six in /Applications/anaconda3/lib/python3.7/site-packages (from plotly) (1.12.0)\n",
      "Requirement already satisfied: retrying>=1.3.3 in /Applications/anaconda3/lib/python3.7/site-packages (from plotly) (1.3.3)\n",
      "Note: you may need to restart the kernel to use updated packages.\n"
     ]
    }
   ],
   "source": []
  },
  {
   "cell_type": "code",
   "execution_count": null,
   "metadata": {},
   "outputs": [],
   "source": []
  }
 ],
 "metadata": {
  "kernelspec": {
   "display_name": "Python 3",
   "language": "python",
   "name": "python3"
  },
  "language_info": {
   "codemirror_mode": {
    "name": "ipython",
    "version": 3
   },
   "file_extension": ".py",
   "mimetype": "text/x-python",
   "name": "python",
   "nbconvert_exporter": "python",
   "pygments_lexer": "ipython3",
   "version": "3.7.4"
  }
 },
 "nbformat": 4,
 "nbformat_minor": 2
}
